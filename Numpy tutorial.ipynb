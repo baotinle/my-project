{
 "cells": [
  {
   "cell_type": "code",
   "execution_count": 2,
   "id": "3a09bb77-c437-44ce-b840-836f6a394527",
   "metadata": {},
   "outputs": [],
   "source": [
    "import numpy as np"
   ]
  },
  {
   "cell_type": "code",
   "execution_count": 8,
   "id": "0c56d900-5d89-48b2-8224-689d48715311",
   "metadata": {},
   "outputs": [],
   "source": [
    "#khai báo mang 1 chieu"
   ]
  },
  {
   "cell_type": "code",
   "execution_count": 9,
   "id": "b5145d1b-efe8-4de9-891c-999bee04815f",
   "metadata": {},
   "outputs": [],
   "source": [
    "a=np.array([1,2,6]) "
   ]
  },
  {
   "cell_type": "code",
   "execution_count": 10,
   "id": "c2937e32-1449-4338-86d6-afb32f94cc20",
   "metadata": {},
   "outputs": [
    {
     "data": {
      "text/plain": [
       "array([1, 2, 6])"
      ]
     },
     "execution_count": 10,
     "metadata": {},
     "output_type": "execute_result"
    }
   ],
   "source": [
    "a"
   ]
  },
  {
   "cell_type": "code",
   "execution_count": 11,
   "id": "8708c410-07fa-4fe7-9015-833bd48fe543",
   "metadata": {},
   "outputs": [],
   "source": [
    "#lay gia tri cua 1 phan tu "
   ]
  },
  {
   "cell_type": "code",
   "execution_count": 12,
   "id": "d405786c-66d3-40e7-802c-b88f4cdc839c",
   "metadata": {},
   "outputs": [
    {
     "data": {
      "text/plain": [
       "2"
      ]
     },
     "execution_count": 12,
     "metadata": {},
     "output_type": "execute_result"
    }
   ],
   "source": [
    "a[1]"
   ]
  },
  {
   "cell_type": "code",
   "execution_count": 15,
   "id": "90e67869-b1c6-4ace-b7d4-3e27798517bc",
   "metadata": {},
   "outputs": [
    {
     "name": "stdout",
     "output_type": "stream",
     "text": [
      "gia tri phan tu thu 2 la 2\n"
     ]
    }
   ],
   "source": [
    "print('gia tri phan tu thu 2 la',a[1])"
   ]
  },
  {
   "cell_type": "code",
   "execution_count": 16,
   "id": "41799bbe-7245-48f4-a9c9-3fdf6f81a624",
   "metadata": {},
   "outputs": [],
   "source": [
    "#kich thuoc cua 1 mang"
   ]
  },
  {
   "cell_type": "code",
   "execution_count": 17,
   "id": "f1b21a60-e6bf-4784-93bd-fa51df6826ef",
   "metadata": {},
   "outputs": [
    {
     "data": {
      "text/plain": [
       "(3,)"
      ]
     },
     "execution_count": 17,
     "metadata": {},
     "output_type": "execute_result"
    }
   ],
   "source": [
    "a.shape"
   ]
  },
  {
   "cell_type": "code",
   "execution_count": 18,
   "id": "12aafae0-6b13-4501-aa04-132f07d3b393",
   "metadata": {},
   "outputs": [],
   "source": [
    "#kieu du lieu cua bang "
   ]
  },
  {
   "cell_type": "code",
   "execution_count": 19,
   "id": "15d5e2d0-e425-48a2-8ecd-ddc7adc1477e",
   "metadata": {},
   "outputs": [
    {
     "data": {
      "text/plain": [
       "dtype('int32')"
      ]
     },
     "execution_count": 19,
     "metadata": {},
     "output_type": "execute_result"
    }
   ],
   "source": [
    "a.dtype"
   ]
  },
  {
   "cell_type": "code",
   "execution_count": 20,
   "id": "21000325-705b-4b5b-92aa-fd941172735b",
   "metadata": {},
   "outputs": [],
   "source": [
    "#khai bao mang 2 chieu"
   ]
  },
  {
   "cell_type": "code",
   "execution_count": 39,
   "id": "8947c191-cd15-4c0e-a340-49c565259376",
   "metadata": {},
   "outputs": [],
   "source": [
    "a1 = np.array([[1,4,5],[5,7,3],[6,7,4],[3,6,7]])"
   ]
  },
  {
   "cell_type": "code",
   "execution_count": 40,
   "id": "1cd64ec4-316e-461d-8cab-e776e849723c",
   "metadata": {},
   "outputs": [
    {
     "data": {
      "text/plain": [
       "array([[1, 4, 5],\n",
       "       [5, 7, 3],\n",
       "       [6, 7, 4],\n",
       "       [3, 6, 7]])"
      ]
     },
     "execution_count": 40,
     "metadata": {},
     "output_type": "execute_result"
    }
   ],
   "source": [
    "a1"
   ]
  },
  {
   "cell_type": "code",
   "execution_count": 41,
   "id": "b39b36fc-334d-4556-80f3-012104be5c82",
   "metadata": {},
   "outputs": [
    {
     "name": "stdout",
     "output_type": "stream",
     "text": [
      "[[1 4 5]\n",
      " [5 7 3]\n",
      " [6 7 4]\n",
      " [3 6 7]]\n"
     ]
    }
   ],
   "source": [
    "print(a1)"
   ]
  },
  {
   "cell_type": "code",
   "execution_count": 42,
   "id": "4d449d28-86d7-45cd-abc6-bd6ef047e269",
   "metadata": {},
   "outputs": [],
   "source": [
    "#so phan tu cua mang"
   ]
  },
  {
   "cell_type": "code",
   "execution_count": 43,
   "id": "e46a0f2f-9ef5-47e9-b9bc-7871f4ec6d3a",
   "metadata": {},
   "outputs": [
    {
     "data": {
      "text/plain": [
       "12"
      ]
     },
     "execution_count": 43,
     "metadata": {},
     "output_type": "execute_result"
    }
   ],
   "source": [
    "a1.size"
   ]
  },
  {
   "cell_type": "code",
   "execution_count": 44,
   "id": "532c5801-5c88-4dfb-8a4d-58a7872ded32",
   "metadata": {},
   "outputs": [
    {
     "data": {
      "text/plain": [
       "(4, 3)"
      ]
     },
     "execution_count": 44,
     "metadata": {},
     "output_type": "execute_result"
    }
   ],
   "source": [
    "a1.shape"
   ]
  },
  {
   "cell_type": "code",
   "execution_count": 45,
   "id": "500b82ad-126f-47d9-8c32-eebf201ae0ad",
   "metadata": {},
   "outputs": [
    {
     "data": {
      "text/plain": [
       "2"
      ]
     },
     "execution_count": 45,
     "metadata": {},
     "output_type": "execute_result"
    }
   ],
   "source": [
    "#so chieu cua mang\n",
    "a1.ndim"
   ]
  },
  {
   "cell_type": "code",
   "execution_count": 49,
   "id": "b924bd18-bfdb-45a0-b03a-cd684240770c",
   "metadata": {},
   "outputs": [
    {
     "data": {
      "text/plain": [
       "3"
      ]
     },
     "execution_count": 49,
     "metadata": {},
     "output_type": "execute_result"
    }
   ],
   "source": [
    "#lay phan tu tai vi tri (2,3)\n",
    "a1[1,2]"
   ]
  },
  {
   "cell_type": "code",
   "execution_count": 81,
   "id": "6ae52bdc-0fe1-47d3-adeb-0c175d9565c9",
   "metadata": {},
   "outputs": [],
   "source": [
    "#khai bao mang co truyen index"
   ]
  },
  {
   "cell_type": "code",
   "execution_count": null,
   "id": "992b4949-3ae0-498c-a154-3d58041033f9",
   "metadata": {},
   "outputs": [],
   "source": [
    "t = "
   ]
  },
  {
   "cell_type": "markdown",
   "id": "b92bb1e1-b25b-40c7-9ca4-efa1c605278b",
   "metadata": {},
   "source": [
    "## phep tinh voi ma tran"
   ]
  },
  {
   "cell_type": "code",
   "execution_count": 23,
   "id": "92731144-0720-4b0b-9fbf-354b2c8f86f5",
   "metadata": {},
   "outputs": [],
   "source": [
    "x = np.array([[1,2,3],[2,5,3]])\n",
    "y = np.array([[1,3,2],[5,2,1]])"
   ]
  },
  {
   "cell_type": "code",
   "execution_count": 24,
   "id": "30203ebf-b942-48e7-89e8-13553a342238",
   "metadata": {},
   "outputs": [
    {
     "data": {
      "text/plain": [
       "array([[1, 2, 3],\n",
       "       [2, 5, 3]])"
      ]
     },
     "execution_count": 24,
     "metadata": {},
     "output_type": "execute_result"
    }
   ],
   "source": [
    "x"
   ]
  },
  {
   "cell_type": "code",
   "execution_count": 25,
   "id": "925c698d-fafa-4a46-9b06-ed33b97229af",
   "metadata": {},
   "outputs": [
    {
     "data": {
      "text/plain": [
       "array([[1, 3, 2],\n",
       "       [5, 2, 1]])"
      ]
     },
     "execution_count": 25,
     "metadata": {},
     "output_type": "execute_result"
    }
   ],
   "source": [
    "y"
   ]
  },
  {
   "cell_type": "code",
   "execution_count": 28,
   "id": "587fc5c8-19a3-4a7b-9fdf-62c0a744be80",
   "metadata": {},
   "outputs": [
    {
     "data": {
      "text/plain": [
       "16"
      ]
     },
     "execution_count": 28,
     "metadata": {},
     "output_type": "execute_result"
    }
   ],
   "source": [
    "np.sum(x)"
   ]
  },
  {
   "cell_type": "code",
   "execution_count": 53,
   "id": "5d015aab-02c7-426d-a6d0-3626b9c78ad5",
   "metadata": {},
   "outputs": [],
   "source": [
    "#cong 2 ma tran "
   ]
  },
  {
   "cell_type": "code",
   "execution_count": 54,
   "id": "016306fe-5fae-4baf-8553-be29b4ac5b42",
   "metadata": {},
   "outputs": [],
   "source": [
    "s = x+y"
   ]
  },
  {
   "cell_type": "code",
   "execution_count": 55,
   "id": "98366cf9-6554-405c-9f79-545ef072bc2f",
   "metadata": {},
   "outputs": [
    {
     "data": {
      "text/plain": [
       "array([[2, 5, 5],\n",
       "       [7, 7, 4]])"
      ]
     },
     "execution_count": 55,
     "metadata": {},
     "output_type": "execute_result"
    }
   ],
   "source": [
    "s"
   ]
  },
  {
   "cell_type": "code",
   "execution_count": 56,
   "id": "a84dfa9f-2952-4e65-aae6-3a6b36f2c347",
   "metadata": {},
   "outputs": [
    {
     "data": {
      "text/plain": [
       "array([[2, 5, 5],\n",
       "       [7, 7, 4]])"
      ]
     },
     "execution_count": 56,
     "metadata": {},
     "output_type": "execute_result"
    }
   ],
   "source": [
    "np.add(x,y)"
   ]
  },
  {
   "cell_type": "code",
   "execution_count": 57,
   "id": "298ce6a4-3dd1-4b88-9868-bda3b524a495",
   "metadata": {},
   "outputs": [],
   "source": [
    "# tru 2 ma tran "
   ]
  },
  {
   "cell_type": "code",
   "execution_count": 58,
   "id": "3e40f5e7-ea56-4321-b5e3-971bf2c2292a",
   "metadata": {},
   "outputs": [],
   "source": [
    "sub = x-y"
   ]
  },
  {
   "cell_type": "code",
   "execution_count": 59,
   "id": "6ff67f83-9e03-44e8-a5c8-2f8233586bf9",
   "metadata": {},
   "outputs": [
    {
     "data": {
      "text/plain": [
       "array([[ 0, -1,  1],\n",
       "       [-3,  3,  2]])"
      ]
     },
     "execution_count": 59,
     "metadata": {},
     "output_type": "execute_result"
    }
   ],
   "source": [
    "sub"
   ]
  },
  {
   "cell_type": "code",
   "execution_count": 60,
   "id": "a254e6a8-6e35-422a-8a35-992dba0e0658",
   "metadata": {},
   "outputs": [
    {
     "data": {
      "text/plain": [
       "array([[ 0, -1,  1],\n",
       "       [-3,  3,  2]])"
      ]
     },
     "execution_count": 60,
     "metadata": {},
     "output_type": "execute_result"
    }
   ],
   "source": [
    "np.subtract(x,y)"
   ]
  },
  {
   "cell_type": "code",
   "execution_count": 61,
   "id": "36131126-8739-41d1-8ae6-43128a5edd1b",
   "metadata": {},
   "outputs": [
    {
     "data": {
      "text/plain": [
       "array([[ 1,  6,  6],\n",
       "       [10, 10,  3]])"
      ]
     },
     "execution_count": 61,
     "metadata": {},
     "output_type": "execute_result"
    }
   ],
   "source": [
    "#nhan 2 mang tran\n",
    "multi = x*y \n",
    "np.multiply(x,y)"
   ]
  },
  {
   "cell_type": "code",
   "execution_count": 62,
   "id": "0657ece0-3f4a-4da3-a2e9-ab21334ceec3",
   "metadata": {},
   "outputs": [
    {
     "data": {
      "text/plain": [
       "array([[ 1,  6,  6],\n",
       "       [10, 10,  3]])"
      ]
     },
     "execution_count": 62,
     "metadata": {},
     "output_type": "execute_result"
    }
   ],
   "source": [
    "multi"
   ]
  },
  {
   "cell_type": "markdown",
   "id": "f7530342-df4d-4095-9ba9-3021ca2ce36e",
   "metadata": {},
   "source": [
    "### Ham Reshape"
   ]
  },
  {
   "cell_type": "code",
   "execution_count": 64,
   "id": "7f195c01-e723-4252-a388-771ac832af33",
   "metadata": {},
   "outputs": [],
   "source": [
    "a2 = np.array([(8,3,4),(4,7,2)])"
   ]
  },
  {
   "cell_type": "code",
   "execution_count": 65,
   "id": "bf386f68-dc34-410d-9ed9-69a51e00dd26",
   "metadata": {},
   "outputs": [
    {
     "data": {
      "text/plain": [
       "array([[8, 3, 4],\n",
       "       [4, 7, 2]])"
      ]
     },
     "execution_count": 65,
     "metadata": {},
     "output_type": "execute_result"
    }
   ],
   "source": [
    "a2"
   ]
  },
  {
   "cell_type": "code",
   "execution_count": 66,
   "id": "2b8e7986-192d-4ff6-a6e7-327e805cf571",
   "metadata": {},
   "outputs": [],
   "source": [
    "a2 = a2.reshape(3,2)"
   ]
  },
  {
   "cell_type": "code",
   "execution_count": 67,
   "id": "de841fc9-f4e8-49b5-9e2e-bdb73cca441b",
   "metadata": {},
   "outputs": [
    {
     "data": {
      "text/plain": [
       "array([[8, 3],\n",
       "       [4, 4],\n",
       "       [7, 2]])"
      ]
     },
     "execution_count": 67,
     "metadata": {},
     "output_type": "execute_result"
    }
   ],
   "source": [
    "a2"
   ]
  },
  {
   "cell_type": "markdown",
   "id": "5e53f4ef-f36e-44e9-9656-028b1c07cd6e",
   "metadata": {},
   "source": [
    "# slicing"
   ]
  },
  {
   "cell_type": "code",
   "execution_count": 74,
   "id": "6458babe-331a-4cd5-afa1-1ee7b59faa14",
   "metadata": {},
   "outputs": [],
   "source": [
    "a3 = np.array([[8,10,12],[9,11,13]])"
   ]
  },
  {
   "cell_type": "code",
   "execution_count": 75,
   "id": "e592c0c2-01ca-419f-ab11-bb8a57d9a81d",
   "metadata": {},
   "outputs": [
    {
     "data": {
      "text/plain": [
       "array([[ 8, 10, 12],\n",
       "       [ 9, 11, 13]])"
      ]
     },
     "execution_count": 75,
     "metadata": {},
     "output_type": "execute_result"
    }
   ],
   "source": [
    "a3"
   ]
  },
  {
   "cell_type": "code",
   "execution_count": 76,
   "id": "05d9d1fb-9953-49a2-a284-25314aa4ea46",
   "metadata": {},
   "outputs": [],
   "source": [
    "#lay dong "
   ]
  },
  {
   "cell_type": "code",
   "execution_count": 78,
   "id": "f50f5c80-8523-4df7-a386-a449d0944f1b",
   "metadata": {},
   "outputs": [
    {
     "data": {
      "text/plain": [
       "(2, 3)"
      ]
     },
     "execution_count": 78,
     "metadata": {},
     "output_type": "execute_result"
    }
   ],
   "source": [
    "a3[0:,].shape"
   ]
  },
  {
   "cell_type": "code",
   "execution_count": 4,
   "id": "f1085321-a0ed-4f5a-bb94-3c2c9245144b",
   "metadata": {},
   "outputs": [
    {
     "data": {
      "text/plain": [
       "array([[0, 0, 0, 0],\n",
       "       [0, 0, 0, 0]])"
      ]
     },
     "execution_count": 4,
     "metadata": {},
     "output_type": "execute_result"
    }
   ],
   "source": [
    "#ham zeros\n",
    "np.zeros([2,4], dtype = int)"
   ]
  },
  {
   "cell_type": "code",
   "execution_count": 6,
   "id": "cf3ed2f5-d5bc-4ddc-9561-dd3849af3841",
   "metadata": {},
   "outputs": [
    {
     "data": {
      "text/plain": [
       "array([[1., 1., 1.],\n",
       "       [1., 1., 1.],\n",
       "       [1., 1., 1.]])"
      ]
     },
     "execution_count": 6,
     "metadata": {},
     "output_type": "execute_result"
    }
   ],
   "source": [
    "np.ones([3,3], dtype = float)"
   ]
  },
  {
   "cell_type": "code",
   "execution_count": 7,
   "id": "bd717b5e-7177-4a2e-b1f7-b0ccd4b7cf88",
   "metadata": {},
   "outputs": [
    {
     "data": {
      "text/plain": [
       "array([ 0,  2,  4,  6,  8, 10, 12, 14, 16, 18])"
      ]
     },
     "execution_count": 7,
     "metadata": {},
     "output_type": "execute_result"
    }
   ],
   "source": [
    "np.arange(0,20,2)"
   ]
  },
  {
   "cell_type": "code",
   "execution_count": 8,
   "id": "c0c5b394-3f87-44e8-b2d4-fa3656816dd8",
   "metadata": {},
   "outputs": [
    {
     "data": {
      "text/plain": [
       "array([0.  , 0.25, 0.5 , 0.75, 1.  ])"
      ]
     },
     "execution_count": 8,
     "metadata": {},
     "output_type": "execute_result"
    }
   ],
   "source": [
    "np.linspace(0,1,5)"
   ]
  },
  {
   "cell_type": "markdown",
   "id": "8529cb1e-d7dd-4e7a-8cf8-76cf5be0fe56",
   "metadata": {},
   "source": [
    "random"
   ]
  },
  {
   "cell_type": "code",
   "execution_count": 10,
   "id": "eede1a83-165d-4a8a-b15b-8e6ca4ea180b",
   "metadata": {},
   "outputs": [
    {
     "data": {
      "text/plain": [
       "array([[0.76561521, 0.05269393, 0.82010479],\n",
       "       [0.80352509, 0.54684534, 0.72634906],\n",
       "       [0.2790048 , 0.75344368, 0.19927902]])"
      ]
     },
     "execution_count": 10,
     "metadata": {},
     "output_type": "execute_result"
    }
   ],
   "source": [
    "np.random.random((3,3))"
   ]
  },
  {
   "cell_type": "code",
   "execution_count": 12,
   "id": "67d61962-f37b-41f9-af5b-d0fe9cade891",
   "metadata": {},
   "outputs": [
    {
     "data": {
      "text/plain": [
       "array([[ 1.76405235,  0.40015721,  0.97873798],\n",
       "       [ 2.2408932 ,  1.86755799, -0.97727788],\n",
       "       [ 0.95008842, -0.15135721, -0.10321885]])"
      ]
     },
     "execution_count": 12,
     "metadata": {},
     "output_type": "execute_result"
    }
   ],
   "source": [
    "np.random.normal(0,1,(3,3))"
   ]
  },
  {
   "cell_type": "code",
   "execution_count": 16,
   "id": "0050b1c7-f567-4265-8ede-b643d071a22f",
   "metadata": {},
   "outputs": [
    {
     "data": {
      "text/plain": [
       "array([1, 1])"
      ]
     },
     "execution_count": 16,
     "metadata": {},
     "output_type": "execute_result"
    }
   ],
   "source": [
    "np.random.randint((4,5))"
   ]
  },
  {
   "cell_type": "code",
   "execution_count": 18,
   "id": "5989ad0d-d4a7-4643-a1a3-571190957882",
   "metadata": {},
   "outputs": [
    {
     "data": {
      "text/plain": [
       "array([[0.89603839, 0.63892108, 0.89155444, 0.68005557, 0.44919774],\n",
       "       [0.97857093, 0.11620191, 0.7670237 , 0.41182014, 0.67543908],\n",
       "       [0.24979628, 0.31321833, 0.96541622, 0.58846509, 0.65966841],\n",
       "       [0.53320625, 0.23053302, 0.39486929, 0.61880856, 0.47486752]])"
      ]
     },
     "execution_count": 18,
     "metadata": {},
     "output_type": "execute_result"
    }
   ],
   "source": [
    "np.random.rand(4,5)"
   ]
  },
  {
   "cell_type": "code",
   "execution_count": 27,
   "id": "00de4df8-03c5-45bb-b70a-765dfadde689",
   "metadata": {},
   "outputs": [
    {
     "data": {
      "text/plain": [
       "array([[1, 2, 3],\n",
       "       [2, 5, 3],\n",
       "       [1, 3, 2],\n",
       "       [5, 2, 1]])"
      ]
     },
     "execution_count": 27,
     "metadata": {},
     "output_type": "execute_result"
    }
   ],
   "source": [
    "np.concatenate((x,y))"
   ]
  },
  {
   "cell_type": "code",
   "execution_count": 29,
   "id": "ee46a0d9-7612-4a1a-98d1-fb792629f1bb",
   "metadata": {},
   "outputs": [
    {
     "data": {
      "text/plain": [
       "2.6666666666666665"
      ]
     },
     "execution_count": 29,
     "metadata": {},
     "output_type": "execute_result"
    }
   ],
   "source": [
    "# gia tri trung binh mean\n",
    "np.mean(x)"
   ]
  },
  {
   "cell_type": "code",
   "execution_count": 30,
   "id": "960aad2d-1cb0-4374-8259-82a720c20483",
   "metadata": {},
   "outputs": [
    {
     "data": {
      "text/plain": [
       "5"
      ]
     },
     "execution_count": 30,
     "metadata": {},
     "output_type": "execute_result"
    }
   ],
   "source": [
    "#min,max\n",
    "np.max(y)"
   ]
  },
  {
   "cell_type": "code",
   "execution_count": null,
   "id": "eaa8d764-c25c-4f46-883f-1c9a268d11e1",
   "metadata": {},
   "outputs": [],
   "source": []
  }
 ],
 "metadata": {
  "kernelspec": {
   "display_name": "Python 3",
   "language": "python",
   "name": "python3"
  },
  "language_info": {
   "codemirror_mode": {
    "name": "ipython",
    "version": 3
   },
   "file_extension": ".py",
   "mimetype": "text/x-python",
   "name": "python",
   "nbconvert_exporter": "python",
   "pygments_lexer": "ipython3",
   "version": "3.8.8"
  }
 },
 "nbformat": 4,
 "nbformat_minor": 5
}
